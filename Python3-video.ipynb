{
  "nbformat": 4,
  "nbformat_minor": 0,
  "metadata": {
    "colab": {
      "provenance": [],
      "authorship_tag": "ABX9TyMaCUQ8TRDqpyzry2iWtbUl",
      "include_colab_link": true
    },
    "kernelspec": {
      "name": "python3",
      "display_name": "Python 3"
    },
    "language_info": {
      "name": "python"
    }
  },
  "cells": [
    {
      "cell_type": "markdown",
      "metadata": {
        "id": "view-in-github",
        "colab_type": "text"
      },
      "source": [
        "<a href=\"https://colab.research.google.com/github/JSM1211/AI2023-2_JoelSanchez/blob/main/Copia_de_PY_AI3.ipynb\" target=\"_parent\"><img src=\"https://colab.research.google.com/assets/colab-badge.svg\" alt=\"Open In Colab\"/></a>"
      ]
    },
    {
      "cell_type": "markdown",
      "source": [
        "# **Parte 1**"
      ],
      "metadata": {
        "id": "qKEk9aZUXd28"
      }
    },
    {
      "cell_type": "code",
      "execution_count": null,
      "metadata": {
        "id": "5TQfT8ZZAEbz",
        "colab": {
          "base_uri": "https://localhost:8080/"
        },
        "outputId": "ea4e15cb-bbfa-47aa-8045-e8d0c258ed14"
      },
      "outputs": [
        {
          "output_type": "stream",
          "name": "stdout",
          "text": [
            "Python 3.10.12\n"
          ]
        }
      ],
      "source": [
        "!python --version"
      ]
    },
    {
      "cell_type": "markdown",
      "source": [
        "## **Basic data types**"
      ],
      "metadata": {
        "id": "I4TXrtN-OoB9"
      }
    },
    {
      "cell_type": "code",
      "source": [
        "variable1=10\n",
        "variable2=2.2\n",
        "variable3='Parangaricutirimicuaro'\n",
        "print(type(variable1))\n",
        "print(type(variable2))\n",
        "print(type(variable3))\n",
        "\n",
        "\n",
        "print(variable1+variable2)\n",
        "print(variable1-variable2)\n",
        "print(variable1*variable2)\n",
        "print(variable1/variable2)\n",
        "\n",
        "v1=True\n",
        "v2=False\n",
        "\n",
        "# print(v1 and v2)\n",
        "# print(v1 or v2)\n",
        "# print(not v1 and v2)\n",
        "\n",
        "# print(len(variable3))\n",
        "# print(variable3.upper())\n",
        "# print(variable3.lower())\n",
        "# print(variable3.capitalize())"
      ],
      "metadata": {
        "colab": {
          "base_uri": "https://localhost:8080/"
        },
        "id": "6OyWp_JoHdE6",
        "outputId": "c093b7e7-60ed-4ca0-cb0a-4c9ec47eb695"
      },
      "execution_count": null,
      "outputs": [
        {
          "output_type": "stream",
          "name": "stdout",
          "text": [
            "<class 'int'>\n",
            "<class 'float'>\n",
            "<class 'str'>\n",
            "12.2\n",
            "7.8\n",
            "22.0\n",
            "4.545454545454545\n"
          ]
        }
      ]
    },
    {
      "cell_type": "markdown",
      "source": [
        "## **Containers**\n",
        "\n",
        "\n",
        "### 1.   **Lists**\n",
        "\n",
        "\n"
      ],
      "metadata": {
        "id": "YT95Z8yWOvOe"
      }
    },
    {
      "cell_type": "code",
      "source": [
        "algunaLista=list()\n",
        "algunaLista=['borrador','cuaderno','goma','lápiz','mochila','esferos','lapices de colores',True]\n",
        "print(algunaLista[2])\n",
        "print(algunaLista[7])\n",
        "print(len(algunaLista))\n",
        "print('--------------------')\n",
        "\n",
        "\n",
        "# for i in algunaLista:\n",
        "#   print(i)\n",
        "# print('--------------------')\n",
        "\n",
        "\n",
        "# algunaLista.append('regla')\n",
        "# for i in algunaLista:\n",
        "#   print(i)\n",
        "# algunaLista.pop(2)\n",
        "# print('--------------------')\n",
        "\n",
        "\n",
        "# for i in algunaLista:\n",
        "#   print(i)\n",
        "# print('--------------------')\n",
        "\n",
        "\n",
        "# # Slicing\n",
        "# print(algunaLista[1:5])\n",
        "\n",
        "# print(algunaLista[-1])\n",
        "\n",
        "print(algunaLista[0:3])"
      ],
      "metadata": {
        "id": "RHQp_8vaM3HE",
        "colab": {
          "base_uri": "https://localhost:8080/"
        },
        "outputId": "5b61556c-cc9e-403e-852d-dc75968d3489"
      },
      "execution_count": null,
      "outputs": [
        {
          "output_type": "stream",
          "name": "stdout",
          "text": [
            "goma\n",
            "True\n",
            "8\n",
            "--------------------\n",
            "['borrador', 'cuaderno', 'goma']\n"
          ]
        }
      ]
    },
    {
      "cell_type": "markdown",
      "source": [
        "\n",
        "\n",
        "### 2.   **Dictionaries**\n",
        "\n"
      ],
      "metadata": {
        "id": "cEbvJL4tUZUN"
      }
    },
    {
      "cell_type": "code",
      "source": [
        "d={'name':'Juan','age':30,'city':'El Carmen'}\n",
        "# print(d['name'])\n",
        "# print(d['city'])\n",
        "\n",
        "# d['uni']='ULEAM'\n",
        "# print(d['uni'])\n",
        "\n",
        "for key in d:\n",
        "  print(d[key])"
      ],
      "metadata": {
        "colab": {
          "base_uri": "https://localhost:8080/"
        },
        "id": "zS62uWoXKfV3",
        "outputId": "7f1cfb83-c9a1-4538-de6d-9bca8ea8f8f0"
      },
      "execution_count": null,
      "outputs": [
        {
          "output_type": "stream",
          "name": "stdout",
          "text": [
            "Juan\n",
            "30\n",
            "El Carmen\n"
          ]
        }
      ]
    },
    {
      "cell_type": "markdown",
      "source": [
        "# **Parte 2**"
      ],
      "metadata": {
        "id": "_o408dR0XR8Q"
      }
    },
    {
      "cell_type": "code",
      "source": [],
      "metadata": {
        "id": "dwm1ZOcuXlW-"
      },
      "execution_count": null,
      "outputs": []
    }
  ]
}
