{
  "nbformat": 4,
  "nbformat_minor": 0,
  "metadata": {
    "colab": {
      "provenance": [],
      "authorship_tag": "ABX9TyPSEem325rHQZMXePyGI9L3",
      "include_colab_link": true
    },
    "kernelspec": {
      "name": "python3",
      "display_name": "Python 3"
    },
    "language_info": {
      "name": "python"
    }
  },
  "cells": [
    {
      "cell_type": "markdown",
      "metadata": {
        "id": "view-in-github",
        "colab_type": "text"
      },
      "source": [
        "<a href=\"https://colab.research.google.com/github/JSM1211/AI2023-2_JoelSanchez/blob/main/Task1.ipynb\" target=\"_parent\"><img src=\"https://colab.research.google.com/assets/colab-badge.svg\" alt=\"Open In Colab\"/></a>"
      ]
    },
    {
      "cell_type": "code",
      "execution_count": null,
      "metadata": {
        "id": "iW-CqznXE8Jl"
      },
      "outputs": [],
      "source": []
    },
    {
      "cell_type": "markdown",
      "source": [
        "# **Diccionario**"
      ],
      "metadata": {
        "id": "3b1xDxfNFsFJ"
      }
    },
    {
      "cell_type": "markdown",
      "source": [],
      "metadata": {
        "id": "aev-doLJFrd5"
      }
    },
    {
      "cell_type": "code",
      "source": [
        "miDiccionario = {'cat':'bonito', 'dog':'angry', 'lion':'strong'}\n",
        "\n",
        "print(type(miDiccionario))\n",
        "\n",
        "for key, value in miDiccionario.items():\n",
        "  print(f'key {key}, value {value}')\n",
        "  print('key %s, value %s'%(key,value))\n",
        "  print('the key value is: {} and the value is: {}'.format(key, value))\n",
        "miDiccionario['monkey']='so cute'\n",
        "\n",
        "print('------------------')\n",
        "print(miDiccionario)"
      ],
      "metadata": {
        "colab": {
          "base_uri": "https://localhost:8080/"
        },
        "id": "jNdYITc6GR9h",
        "outputId": "842d9890-4d77-4a91-c45d-75e7fc9df48b"
      },
      "execution_count": 5,
      "outputs": [
        {
          "output_type": "stream",
          "name": "stdout",
          "text": [
            "<class 'dict'>\n",
            "key cat, value bonito\n",
            "key cat, value bonito\n",
            "key dog, value angry\n",
            "key dog, value angry\n",
            "key lion, value strong\n",
            "key lion, value strong\n"
          ]
        }
      ]
    },
    {
      "cell_type": "code",
      "source": [],
      "metadata": {
        "id": "tP_u6Au8GvWK"
      },
      "execution_count": 1,
      "outputs": []
    }
  ]
}