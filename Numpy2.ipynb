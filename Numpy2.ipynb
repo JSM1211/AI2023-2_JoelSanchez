{
  "nbformat": 4,
  "nbformat_minor": 0,
  "metadata": {
    "colab": {
      "provenance": [],
      "authorship_tag": "ABX9TyNvgd4BbqTLiKMYLXAQIBjV",
      "include_colab_link": true
    },
    "kernelspec": {
      "name": "python3",
      "display_name": "Python 3"
    },
    "language_info": {
      "name": "python"
    }
  },
  "cells": [
    {
      "cell_type": "markdown",
      "metadata": {
        "id": "view-in-github",
        "colab_type": "text"
      },
      "source": [
        "<a href=\"https://colab.research.google.com/github/JSM1211/AI2023-2_JoelSanchez/blob/main/Numpy3.ipynb\" target=\"_parent\"><img src=\"https://colab.research.google.com/assets/colab-badge.svg\" alt=\"Open In Colab\"/></a>"
      ]
    },
    {
      "cell_type": "code",
      "execution_count": 9,
      "metadata": {
        "colab": {
          "base_uri": "https://localhost:8080/"
        },
        "id": "KsTtogm46VIO",
        "outputId": "3aa2d7ca-d6c2-4fc5-81ea-776970b43f6c"
      },
      "outputs": [
        {
          "output_type": "stream",
          "name": "stdout",
          "text": [
            "[[9 6 8 6]\n",
            " [7 8 6 9]\n",
            " [9 2 9 5]]\n",
            "[[ 7  8  8  6]\n",
            " [ 8 10  1  3]\n",
            " [ 6  2 10  6]]\n",
            "(3, 4)\n",
            "(3, 4)\n",
            "Adding numbers\n",
            "[[16 14 16 12]\n",
            " [15 18  7 12]\n",
            " [15  4 19 11]]\n",
            "Subtracting numbers\n",
            "[[ 2 -2  0  0]\n",
            " [-1 -2  5  6]\n",
            " [ 3  0 -1 -1]]\n",
            "Multiplication numbers\n",
            "[[63 48 64 36]\n",
            " [56 80  6 27]\n",
            " [54  4 90 30]]\n",
            "Add\n",
            "[[16 14 16 12]\n",
            " [15 18  7 12]\n",
            " [15  4 19 11]]\n",
            "Substract\n",
            "[[63 48 64 36]\n",
            " [56 80  6 27]\n",
            " [54  4 90 30]]\n",
            "Multiply\n",
            "[[ 2 -2  0  0]\n",
            " [-1 -2  5  6]\n",
            " [ 3  0 -1 -1]]\n",
            "Divide\n",
            "[[1.28571429 0.75       1.         1.        ]\n",
            " [0.875      0.8        6.         3.        ]\n",
            " [1.5        1.         0.9        0.83333333]]\n"
          ]
        }
      ],
      "source": [
        "import numpy as np\n",
        "\n",
        "#create an array with random inteher values between 1 and 10\n",
        "a = np.random.randint(1, 11, size=(3,4))\n",
        "b = np.random.randint(1, 11, size=(3,4))\n",
        "print(a)\n",
        "print(b)\n",
        "print(a.shape)\n",
        "print(b.shape)\n",
        "print('Adding numbers')\n",
        "#plus\n",
        "print(a+b)\n",
        "print('Subtracting numbers')\n",
        "#minus\n",
        "print(a-b)\n",
        "print('Multiplication numbers')\n",
        "#times\n",
        "print(a*b)\n",
        "\n",
        "\n",
        "print('Add')\n",
        "print(np.add(a,b))\n",
        "print('Substract')\n",
        "print(np.multiply(a,b))\n",
        "print('Multiply')\n",
        "print(np.subtract(a,b))\n",
        "print('Divide')\n",
        "print(np.divide(a,b))"
      ]
    },
    {
      "cell_type": "code",
      "source": [
        "m1 = np.random.randint(1, 11, size=(3,4))\n",
        "m2 = np.random.randint(1, 11, size=(4,8))\n",
        "print('Matriz 1')\n",
        "print(m1)\n",
        "print(m1.shape)\n",
        "print('Matriz 2')\n",
        "print(m2)\n",
        "print(m2.shape)\n",
        "print('-------------------------')\n",
        "print('Forma 1')\n",
        "print(np.dot(m1,m2))\n",
        "print('Forma 2')\n",
        "print(m1.dot(m2))\n",
        "print(np.dot(m1,m2).shape)\n"
      ],
      "metadata": {
        "colab": {
          "base_uri": "https://localhost:8080/"
        },
        "id": "ttSC_n279H5V",
        "outputId": "0fbc918f-427d-418a-e45a-bdbd99702e7f"
      },
      "execution_count": 13,
      "outputs": [
        {
          "output_type": "stream",
          "name": "stdout",
          "text": [
            "Matriz 1\n",
            "[[ 9  7  8  1]\n",
            " [ 9  8  9 10]\n",
            " [ 6  9  3 10]]\n",
            "(3, 4)\n",
            "Matriz 2\n",
            "[[10  9  5  1  7  6  8  9]\n",
            " [ 1  8  2  3  3  7  8  2]\n",
            " [ 4  6  4  3  4  6  3  9]\n",
            " [ 6  2 10  3  4  5  1  3]]\n",
            "(4, 8)\n",
            "-------------------------\n",
            "Forma 1\n",
            "[[135 187 101  57 120 156 153 170]\n",
            " [194 219 197  90 163 214 173 208]\n",
            " [141 164 160  72 121 167 139 129]]\n",
            "Forma 2\n",
            "[[135 187 101  57 120 156 153 170]\n",
            " [194 219 197  90 163 214 173 208]\n",
            " [141 164 160  72 121 167 139 129]]\n",
            "(3, 8)\n"
          ]
        }
      ]
    },
    {
      "cell_type": "code",
      "source": [
        "a = np.random.randint(1, 11, size=(2,2))\n",
        "print(a.shape)\n",
        "print(type(a))\n",
        "print(a)\n",
        "print(a.T)"
      ],
      "metadata": {
        "colab": {
          "base_uri": "https://localhost:8080/"
        },
        "outputId": "43c8bf7d-1348-41ff-9ae9-476584986e04",
        "id": "JDwid3oW_QmL"
      },
      "execution_count": 16,
      "outputs": [
        {
          "output_type": "stream",
          "name": "stdout",
          "text": [
            "(2, 2)\n",
            "<class 'numpy.ndarray'>\n",
            "[[3 3]\n",
            " [7 7]]\n",
            "[[3 7]\n",
            " [3 7]]\n"
          ]
        }
      ]
    },
    {
      "cell_type": "code",
      "source": [
        "#broadcast\n",
        "x = np.random.randint(1, 11, size=(4,3))\n",
        "y = np.array([1,0,2])\n",
        "\n",
        "print(x.shape)\n",
        "print(y.shape)\n",
        "\n",
        "z=np.empty_like(x)\n",
        "print('---------------------')\n",
        "print(x)\n",
        "print('---------------------')\n",
        "print(y)\n",
        "print(z.shape)\n",
        "print('---------------------')\n",
        "print(z)\n"
      ],
      "metadata": {
        "colab": {
          "base_uri": "https://localhost:8080/"
        },
        "id": "xA369g6A_uY_",
        "outputId": "6705081e-60b6-4144-ee48-8fa0c0e19f4a"
      },
      "execution_count": 22,
      "outputs": [
        {
          "output_type": "stream",
          "name": "stdout",
          "text": [
            "(4, 3)\n",
            "(3,)\n",
            "---------------------\n",
            "[[ 4  4 10]\n",
            " [10  7  7]\n",
            " [ 4  7  6]\n",
            " [ 6  5  6]]\n",
            "---------------------\n",
            "[1 0 2]\n",
            "(4, 3)\n",
            "---------------------\n",
            "[[6 8 5]\n",
            " [2 9 3]\n",
            " [3 3 7]\n",
            " [3 6 1]]\n"
          ]
        }
      ]
    },
    {
      "cell_type": "code",
      "source": [
        "for i in range(4):\n",
        "  z[i,:]=x[i,:]+y\n",
        "print(z)"
      ],
      "metadata": {
        "colab": {
          "base_uri": "https://localhost:8080/"
        },
        "id": "8Bs-Vg0VC662",
        "outputId": "2281d956-9799-4ec1-8561-b59a3e01cd68"
      },
      "execution_count": 24,
      "outputs": [
        {
          "output_type": "stream",
          "name": "stdout",
          "text": [
            "[[ 5  4 12]\n",
            " [11  7  9]\n",
            " [ 5  7  8]\n",
            " [ 7  5  8]]\n"
          ]
        }
      ]
    },
    {
      "cell_type": "code",
      "source": [
        "z=x+y\n",
        "print(z)"
      ],
      "metadata": {
        "colab": {
          "base_uri": "https://localhost:8080/"
        },
        "id": "U3h9s2EHDD18",
        "outputId": "0266c0de-3e54-41de-aa2e-aa715a62cc8b"
      },
      "execution_count": 29,
      "outputs": [
        {
          "output_type": "stream",
          "name": "stdout",
          "text": [
            "[[ 5  4 12]\n",
            " [11  7  9]\n",
            " [ 5  7  8]\n",
            " [ 7  5  8]]\n"
          ]
        }
      ]
    },
    {
      "cell_type": "code",
      "source": [
        "#para comentar varias lineas de codigo se usa triple comillas simples \"\"\"  \"\"\"\n",
        "\n",
        "a=np.array([1,2,3])\n",
        "print(a)\n",
        "print('-----------------')\n",
        "\n",
        "b = np.full((6,3),[a])\n",
        "print(b)\n",
        "print('-----------------')\n",
        "\n",
        "c= np.tile(a,(6,1))\n",
        "print(c)\n"
      ],
      "metadata": {
        "colab": {
          "base_uri": "https://localhost:8080/"
        },
        "id": "mAViNFcrDV7_",
        "outputId": "825f70a7-42a3-44eb-e46f-b9b1e43d9407"
      },
      "execution_count": 46,
      "outputs": [
        {
          "output_type": "stream",
          "name": "stdout",
          "text": [
            "[[ 4  8  1  6  9  7]\n",
            " [10  1  1  3  6  6]\n",
            " [ 9  7  8  1  1  1]\n",
            " [ 7 10  1  4  3  3]\n",
            " [ 2  1  1  7  5  2]\n",
            " [ 4  2  3  3 10  2]]\n"
          ]
        }
      ]
    },
    {
      "cell_type": "code",
      "source": [
        "m1 = np.random.randint(0, 10, size=(6,6))\n",
        "print(m1)\n",
        "aux=np.mean(m1)\n",
        "print(aux)\n",
        "\n",
        "np.mean(m1, axis=1) #promedio por filas\n",
        "np.mean(m1, axis=0) #promedio por filas\n",
        "\n",
        "print('Promedio por filas')\n",
        "print(np.mean(m1, axis=1))\n",
        "print('Promedio por columnas')\n",
        "print(np.mean(m1, axis=0))"
      ],
      "metadata": {
        "colab": {
          "base_uri": "https://localhost:8080/"
        },
        "id": "TyUvm0wYGB7G",
        "outputId": "2888f267-4b4d-45f1-9738-e3f22b330e6d"
      },
      "execution_count": 54,
      "outputs": [
        {
          "output_type": "stream",
          "name": "stdout",
          "text": [
            "[[8 2 2 6 7 3]\n",
            " [1 3 2 3 9 7]\n",
            " [6 8 5 2 2 7]\n",
            " [6 7 0 6 3 2]\n",
            " [7 1 2 9 7 8]\n",
            " [6 6 3 4 4 4]]\n",
            "4.666666666666667\n",
            "Promedio por filas\n",
            "[4.66666667 4.16666667 5.         4.         5.66666667 4.5       ]\n",
            "Promedio por columnas\n",
            "[5.66666667 4.5        2.33333333 5.         5.33333333 5.16666667]\n"
          ]
        }
      ]
    },
    {
      "cell_type": "code",
      "source": [],
      "metadata": {
        "id": "mJa87yhsINWe"
      },
      "execution_count": null,
      "outputs": []
    }
  ]
}
