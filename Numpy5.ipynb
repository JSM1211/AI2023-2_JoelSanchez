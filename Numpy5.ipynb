{
  "nbformat": 4,
  "nbformat_minor": 0,
  "metadata": {
    "colab": {
      "provenance": [],
      "authorship_tag": "ABX9TyPNAS8dYCcv8bP9OGAQNPod",
      "include_colab_link": true
    },
    "kernelspec": {
      "name": "python3",
      "display_name": "Python 3"
    },
    "language_info": {
      "name": "python"
    }
  },
  "cells": [
    {
      "cell_type": "markdown",
      "metadata": {
        "id": "view-in-github",
        "colab_type": "text"
      },
      "source": [
        "<a href=\"https://colab.research.google.com/github/JSM1211/AI2023-2_JoelSanchez/blob/main/PY_AI5.ipynb\" target=\"_parent\"><img src=\"https://colab.research.google.com/assets/colab-badge.svg\" alt=\"Open In Colab\"/></a>"
      ]
    },
    {
      "cell_type": "code",
      "execution_count": null,
      "metadata": {
        "colab": {
          "base_uri": "https://localhost:8080/"
        },
        "id": "d7TA0_OlN5C9",
        "outputId": "ce4c3d94-b214-482f-93ef-23254fe142db"
      },
      "outputs": [
        {
          "output_type": "stream",
          "name": "stdout",
          "text": [
            "[1 2 4 5]\n",
            "(4,)\n",
            "------------------------------\n",
            "(2, 4)\n",
            "[[1 2 3 4]\n",
            " [1 2 3 4]]\n",
            "<class 'numpy.ndarray'>\n",
            "------------------------------\n",
            "[[0. 0. 0. 0.]\n",
            " [0. 0. 0. 0.]\n",
            " [0. 0. 0. 0.]\n",
            " [0. 0. 0. 0.]]\n",
            "------------------------------\n",
            "[[5 5 5 5]\n",
            " [5 5 5 5]\n",
            " [5 5 5 5]\n",
            " [5 5 5 5]]\n",
            "------------------------------\n",
            "[[1. 0. 0. 0.]\n",
            " [0. 1. 0. 0.]\n",
            " [0. 0. 1. 0.]\n",
            " [0. 0. 0. 1.]]\n",
            "------------------------------\n",
            "[[1. 1. 1. 1.]\n",
            " [1. 1. 1. 1.]\n",
            " [1. 1. 1. 1.]\n",
            " [1. 1. 1. 1.]]\n",
            "------------------------------\n"
          ]
        }
      ],
      "source": [
        "import numpy as joel\n",
        "\n",
        "aux=joel.array([1,2,4,5])\n",
        "print(aux)\n",
        "# Tipo de arreglo\n",
        "print(aux.shape)\n",
        "print('------------------------------')\n",
        "\n",
        "aux=joel.array([[1,2,3,4],[1,2,3,4]])\n",
        "print(aux.shape)\n",
        "print(aux)\n",
        "print(type(aux))\n",
        "print('------------------------------')\n",
        "\n",
        "tmp=joel.zeros((4,4))\n",
        "print(tmp)\n",
        "print('------------------------------')\n",
        "\n",
        "\n",
        "tmp=joel.full((4,4),5)\n",
        "print(tmp)\n",
        "print('------------------------------')\n",
        "\n",
        "\n",
        "tmp=joel.eye(4,4)\n",
        "print(tmp)\n",
        "print('------------------------------')\n",
        "\n",
        "\n",
        "tmp=joel.ones((4,4))\n",
        "print(tmp)\n",
        "print('------------------------------')"
      ]
    },
    {
      "cell_type": "code",
      "source": [
        "tmp=10*joel.random.random((4,4))\n",
        "print(tmp)\n",
        "print('------------------------------')"
      ],
      "metadata": {
        "colab": {
          "base_uri": "https://localhost:8080/"
        },
        "id": "gNz4Jv9-Rtmj",
        "outputId": "cc7f6d8c-5a1f-4475-9e97-aeb2caade9ff"
      },
      "execution_count": null,
      "outputs": [
        {
          "output_type": "stream",
          "name": "stdout",
          "text": [
            "[[1.05878222e+00 4.20914530e+00 2.91147877e+00 2.14197096e+00]\n",
            " [3.63564831e+00 7.14228698e+00 7.55943547e+00 3.50307359e-01]\n",
            " [5.76617167e-03 7.01335222e+00 4.62343087e+00 4.68070243e+00]\n",
            " [3.65067707e+00 3.46654313e+00 3.44819459e+00 9.51938064e+00]]\n",
            "------------------------------\n"
          ]
        }
      ]
    },
    {
      "cell_type": "code",
      "source": [
        "print(tmp[:2,:2])\n",
        "print('------------------------------')\n",
        "print(tmp[2:4,2:4])"
      ],
      "metadata": {
        "colab": {
          "base_uri": "https://localhost:8080/"
        },
        "id": "BuFYpRloSX80",
        "outputId": "d575c7dc-803f-4b33-d693-f02d90fd222b"
      },
      "execution_count": null,
      "outputs": [
        {
          "output_type": "stream",
          "name": "stdout",
          "text": [
            "[[1.05878222 4.2091453 ]\n",
            " [3.63564831 7.14228698]]\n",
            "------------------------------\n",
            "[[4.62343087 4.68070243]\n",
            " [3.44819459 9.51938064]]\n"
          ]
        }
      ]
    },
    {
      "cell_type": "code",
      "source": [
        "print(tmp[1,1])\n",
        "print('------------------------------')\n",
        "print(tmp[2,2])\n",
        "print('------------------------------')"
      ],
      "metadata": {
        "colab": {
          "base_uri": "https://localhost:8080/"
        },
        "id": "mmabOtMRTL0M",
        "outputId": "b1a3b889-fa5b-4bd7-b926-23d55d979f9d"
      },
      "execution_count": null,
      "outputs": [
        {
          "output_type": "stream",
          "name": "stdout",
          "text": [
            "7.1422869827914335\n",
            "------------------------------\n",
            "4.623430874447384\n",
            "------------------------------\n"
          ]
        }
      ]
    },
    {
      "cell_type": "code",
      "source": [
        "tmp=10*joel.random.random((4,4))\n",
        "print(tmp)"
      ],
      "metadata": {
        "colab": {
          "base_uri": "https://localhost:8080/"
        },
        "id": "Zr9-q5APUDzw",
        "outputId": "bc7292e9-df61-4e7c-dd18-a491cfbd8d47"
      },
      "execution_count": null,
      "outputs": [
        {
          "output_type": "stream",
          "name": "stdout",
          "text": [
            "[[2.34082218 8.72393779 7.21747908 7.93972984]\n",
            " [2.11960474 8.33909745 7.9284533  4.94916212]\n",
            " [6.62832628 9.21516991 3.76406484 3.31658224]\n",
            " [7.01957764 2.58311717 1.22269817 4.33557488]]\n"
          ]
        }
      ]
    },
    {
      "cell_type": "code",
      "source": [
        "mascara=tmp>5\n",
        "print(mascara)\n",
        "print('------------------------------')\n",
        "print(tmp[mascara])\n",
        "print('------------------------------')"
      ],
      "metadata": {
        "colab": {
          "base_uri": "https://localhost:8080/"
        },
        "id": "CF_zK7kWUVWT",
        "outputId": "7bc08e81-a886-4c2b-9035-fa3036e90126"
      },
      "execution_count": null,
      "outputs": [
        {
          "output_type": "stream",
          "name": "stdout",
          "text": [
            "[[False  True  True  True]\n",
            " [False  True  True False]\n",
            " [ True  True False False]\n",
            " [ True False False False]]\n",
            "------------------------------\n",
            "[8.72393779 7.21747908 7.93972984 8.33909745 7.9284533  6.62832628\n",
            " 9.21516991 7.01957764]\n",
            "------------------------------\n"
          ]
        }
      ]
    },
    {
      "cell_type": "code",
      "source": [
        "mask = (tmp >=2) & (tmp<=4)\n",
        "print(tmp[mask])"
      ],
      "metadata": {
        "colab": {
          "base_uri": "https://localhost:8080/"
        },
        "id": "X4hTTMZXWKLM",
        "outputId": "86325493-1174-4183-d1d9-ae908919f3f8"
      },
      "execution_count": null,
      "outputs": [
        {
          "output_type": "stream",
          "name": "stdout",
          "text": [
            "[2.34082218 2.11960474 3.76406484 3.31658224 2.58311717]\n"
          ]
        }
      ]
    },
    {
      "cell_type": "code",
      "source": [
        "tmp = joel.random.randint(0, 11, size=(4, 4))\n",
        "print(tmp)\n",
        "print('----------------------------------')\n",
        "mask = joel.mod(tmp, 2) == 0\n",
        "print(tmp[mask])\n"
      ],
      "metadata": {
        "colab": {
          "base_uri": "https://localhost:8080/"
        },
        "id": "iM_pH6yrWgXT",
        "outputId": "d49fbdea-e871-43a2-9a4b-737f9525fb8c"
      },
      "execution_count": null,
      "outputs": [
        {
          "output_type": "stream",
          "name": "stdout",
          "text": [
            "[[ 6  9  6 10]\n",
            " [10  0  2  3]\n",
            " [ 1  2  8  7]\n",
            " [ 4 10  2  5]]\n",
            "----------------------------------\n",
            "[ 6  6 10 10  0  2  2  8  4 10  2]\n"
          ]
        }
      ]
    }
  ]
}
