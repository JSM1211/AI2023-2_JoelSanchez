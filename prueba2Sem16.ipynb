{
  "nbformat": 4,
  "nbformat_minor": 0,
  "metadata": {
    "colab": {
      "provenance": [],
      "authorship_tag": "ABX9TyOK0JivnKHDxwX2GWDqDzMO",
      "include_colab_link": true
    },
    "kernelspec": {
      "name": "python3",
      "display_name": "Python 3"
    },
    "language_info": {
      "name": "python"
    }
  },
  "cells": [
    {
      "cell_type": "markdown",
      "metadata": {
        "id": "view-in-github",
        "colab_type": "text"
      },
      "source": [
        "<a href=\"https://colab.research.google.com/github/JSM1211/AI2023-2_JoelSanchez/blob/main/prueba2Sem16.ipynb\" target=\"_parent\"><img src=\"https://colab.research.google.com/assets/colab-badge.svg\" alt=\"Open In Colab\"/></a>"
      ]
    },
    {
      "cell_type": "code",
      "execution_count": 2,
      "metadata": {
        "id": "jkkH3l7O9cTN"
      },
      "outputs": [],
      "source": [
        "import pandas as pd\n",
        "\n",
        "url='/content/SetData/daily_weather.csv'\n",
        "df=pd.read_csv(url)"
      ]
    },
    {
      "cell_type": "code",
      "source": [
        "print(df.head(10))"
      ],
      "metadata": {
        "colab": {
          "base_uri": "https://localhost:8080/"
        },
        "id": "PJk98Qw1_GUA",
        "outputId": "1eed2205-5e2f-4d3e-dd0a-7131cd2ab5ac"
      },
      "execution_count": 5,
      "outputs": [
        {
          "output_type": "stream",
          "name": "stdout",
          "text": [
            "   number  air_pressure_9am  air_temp_9am  avg_wind_direction_9am  \\\n",
            "0       0        918.060000     74.822000              271.100000   \n",
            "1       1        917.347688     71.403843              101.935179   \n",
            "2       2        923.040000     60.638000               51.000000   \n",
            "3       3        920.502751     70.138895              198.832133   \n",
            "4       4        921.160000     44.294000              277.800000   \n",
            "5       5        915.300000     78.404000              182.800000   \n",
            "6       6        915.598868     70.043304              177.875407   \n",
            "7       7        918.070000     51.710000              242.400000   \n",
            "8       8        920.080000     80.582000               40.700000   \n",
            "9       9        915.010000     47.498000              163.100000   \n",
            "\n",
            "   avg_wind_speed_9am  max_wind_direction_9am  max_wind_speed_9am  \\\n",
            "0            2.080354              295.400000            2.863283   \n",
            "1            2.443009              140.471548            3.533324   \n",
            "2           17.067852               63.700000           22.100967   \n",
            "3            4.337363              211.203341            5.190045   \n",
            "4            1.856660              136.500000            2.863283   \n",
            "5            9.932014              189.000000           10.983375   \n",
            "6            3.745587              186.606696            4.589632   \n",
            "7            2.527742              271.600000            3.646212   \n",
            "8            4.518619               63.000000            5.883152   \n",
            "9            4.943637              195.900000            6.576604   \n",
            "\n",
            "   rain_accumulation_9am  rain_duration_9am  relative_humidity_9am  \\\n",
            "0                   0.00                0.0              42.420000   \n",
            "1                   0.00                0.0              24.328697   \n",
            "2                   0.00               20.0               8.900000   \n",
            "3                   0.00                0.0              12.189102   \n",
            "4                   8.90            14730.0              92.410000   \n",
            "5                   0.02              170.0              35.130000   \n",
            "6                   0.00                0.0              10.657422   \n",
            "7                   0.00                0.0              80.470000   \n",
            "8                   0.00                0.0              29.580000   \n",
            "9                   0.00                0.0              88.600000   \n",
            "\n",
            "   relative_humidity_3pm  \n",
            "0              36.160000  \n",
            "1              19.426597  \n",
            "2              14.460000  \n",
            "3              12.742547  \n",
            "4              76.740000  \n",
            "5              33.930000  \n",
            "6              21.385657  \n",
            "7              74.920000  \n",
            "8              24.030000  \n",
            "9              68.050000  \n"
          ]
        }
      ]
    },
    {
      "cell_type": "code",
      "source": [
        "x=df.drop"
      ],
      "metadata": {
        "id": "H1vhBqPF_MLJ"
      },
      "execution_count": null,
      "outputs": []
    }
  ]
}